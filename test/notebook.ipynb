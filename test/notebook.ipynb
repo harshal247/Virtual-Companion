{
 "cells": [
  {
   "cell_type": "code",
   "execution_count": 1,
   "metadata": {},
   "outputs": [
    {
     "name": "stderr",
     "output_type": "stream",
     "text": [
      "/var/folders/hx/0ptq79g959sftkzv1vp9y9tm0000gn/T/ipykernel_68890/3784052260.py:4: LangChainDeprecationWarning: The class `Ollama` was deprecated in LangChain 0.3.1 and will be removed in 1.0.0. An updated version of the class exists in the :class:`~langchain-ollama package and should be used instead. To use it run `pip install -U :class:`~langchain-ollama` and import as `from :class:`~langchain_ollama import OllamaLLM``.\n",
      "  model = Ollama(model=\"llama2\")\n",
      "/var/folders/hx/0ptq79g959sftkzv1vp9y9tm0000gn/T/ipykernel_68890/3784052260.py:5: LangChainDeprecationWarning: The class `OllamaEmbeddings` was deprecated in LangChain 0.3.1 and will be removed in 1.0.0. An updated version of the class exists in the :class:`~langchain-ollama package and should be used instead. To use it run `pip install -U :class:`~langchain-ollama` and import as `from :class:`~langchain_ollama import OllamaEmbeddings``.\n",
      "  embeddings = OllamaEmbeddings()\n"
     ]
    },
    {
     "data": {
      "text/plain": [
       "\"Sure! Here's a classic one:\\n\\nWhy don't scientists trust atoms?\\nBecause they make up everything!\""
      ]
     },
     "execution_count": 1,
     "metadata": {},
     "output_type": "execute_result"
    }
   ],
   "source": [
    "from langchain_community.llms import Ollama\n",
    "from langchain_community.embeddings import OllamaEmbeddings\n",
    "\n",
    "model = Ollama(model=\"llama2\")\n",
    "embeddings = OllamaEmbeddings()\n",
    "\n",
    "model.invoke(\"Tell me a joke\")"
   ]
  },
  {
   "cell_type": "code",
   "execution_count": 17,
   "metadata": {},
   "outputs": [
    {
     "data": {
      "text/plain": [
       "\"Sure! Here's a quick one:\\n\\nWhy don't scientists trust atoms? Because they make up everything!\\n\\nI hope that made you smile!\""
      ]
     },
     "execution_count": 17,
     "metadata": {},
     "output_type": "execute_result"
    }
   ],
   "source": [
    "from langchain_core.output_parsers import StrOutputParser\n",
    "\n",
    "parser = StrOutputParser()\n",
    " \n",
    "chain = model | parser\n",
    "chain.invoke(\"tell me a joke\")"
   ]
  },
  {
   "cell_type": "code",
   "execution_count": 2,
   "metadata": {},
   "outputs": [
    {
     "name": "stderr",
     "output_type": "stream",
     "text": [
      "Ignoring wrong pointing object 6 0 (offset 0)\n",
      "Ignoring wrong pointing object 8 0 (offset 0)\n",
      "Ignoring wrong pointing object 10 0 (offset 0)\n",
      "Ignoring wrong pointing object 22 0 (offset 0)\n",
      "Ignoring wrong pointing object 52 0 (offset 0)\n",
      "Ignoring wrong pointing object 54 0 (offset 0)\n",
      "Ignoring wrong pointing object 75 0 (offset 0)\n"
     ]
    },
    {
     "data": {
      "text/plain": [
       "[Document(metadata={'source': 'data/Virtual_Companion_FAQs.pdf', 'page': 0}, page_content=\"1. What should I include in the care packages for homeless individuals? Stick with basic essentials such as: ● Soap or hygiene products (avoid alcohol-based products). ● Socks (a highly needed item). ● Snacks or non-perishable food. ● Water bottles. ● Feminine hygiene products. ● First aid items (like bandages and antiseptic wipes, but avoid alcohol-based products). 2. Are there specific items that a re easier for homeless individuals to carry? Yes, individual bags with compact, lightweight items are easier to carry around. Avoid bulky or heavy items. 3. How should I distribute wellness information or resources? Carry printed Street Care wellness information and offer them when giving out care packages. These materials can provide additional help to those in need. 4. Should I offer help to everyone I meet? It's always good to offer assistance, but be mindful and respectful if someone declines help. Ensure they feel empowered and not pressured. 5. Is it important to focus on specific items rather than a wide variety? Yes, focusing on key necessities like hygiene products, socks, water, snacks, and first aid ensures you’re providing practical and immediately useful items. 6. What should I do if someone asks for items I don’t have? Politely explain what you have available, and offer to share wellness resources that may direct them to more specialized help. 7. Can I include alcohol-based products in the care packages? No, it's recommended to avoid alcohol-based products, especially first-aid items, as they may not be suitable for all individuals.  1. What if I feel overwhelmed at first?\"),\n",
       " Document(metadata={'source': 'data/Virtual_Companion_FAQs.pdf', 'page': 1}, page_content=\"It’s completely normal to feel overwhelmed. Take your time, and remember that even small actions can make a big impact. The experience often becomes easier with practice, and you may find inspiration along the way. 2. Can my help really make a difference? Absolutely! Your assistance, whether through providing essentials or simply offering support, can literally save lives by addressing immediate needs such as food, water, and first aid. 3. How do I stay motivated as a volunteer? The act of going out and helping others is often inspiring in itself. Seeing the direct impact of your efforts and connecting with those you help can be incredibly rewarding. 4. What should I do if I start to feel discouraged? It’s important to remind yourself that every small contribution counts. Reach out to other volunteers for support or share your experiences—it helps to know you're not alone in your efforts. 5. Is it okay to take breaks if I’m feeling overwhelmed? Yes, it's important to take care of yourself as well. Taking breaks when needed will allow you to recharge and come back ready to help even more effectively. Q: What are the benefits of working in a group? A: Working in a group allows members to divide tasks based on their strengths, ensuring that more aspects of a project are addressed efficiently. This distribution of work also prevents any single person from becoming overwhelmed, leading to a more balanced and productive workflow.  Q: How does sharing responsibilities in a group enhance productivity? A: Sharing responsibilities ensures that all tasks are handled promptly and effectively. It allows each member to focus on specific areas, leveraging their unique skills and expertise, which can lead to higher-quality work and faster completion of projects.  Q: What are the advantages of splitting into pairs within a group? A: Splitting into pairs allows for more focused collaboration, reducing the complexity of communication and making it easier to manage tasks.  Q: How does pairing up prevent group members from feeling overwhelmed? A: Pairing up divides the workload between two people, making large tasks more manageable. It\"),\n",
       " Document(metadata={'source': 'data/Virtual_Companion_FAQs.pdf', 'page': 2}, page_content=\"ensures that no one feels isolated or overburdened, as they have a partner to rely on for assistance, feedback, and encouragement.  Q: How can working with others enhance your knowledge? A: When you work with others, you gain insights into how different people approach problems and solutions. This exchange of ideas broadens your understanding, introduces you to new concepts, and enhances your overall knowledge base  Q: How does sharing experiences within a group contribute to learning? A: Sharing experiences allows group members to reflect on what worked well and what didn’t. This collective learning process helps everyone in the group to understand different approaches, avoid common pitfalls, and refine their own techniques.   Q: How can we show respect to homeless people? A: You can show respect by asking for permission before approaching, maintaining a comfortable distance, and being mindful of their privacy. It's important to treat them with the same courtesy and consideration you would offer anyone else.  Q: How can we show respect to homeless people? A: You can show respect by asking for permission before approaching, maintaining a comfortable distance, and being mindful of their privacy. It's important to treat them with the same courtesy and consideration you would offer anyone else.  Q: What is the significance of introducing yourself when speaking to a homeless person? A: Introducing yourself establishes trust and transparency. It shows that you respect the person enough to share who you are, which can help create a more comfortable and open environment for conversation.  Q: Why should I state my purpose when approaching a homeless individual? A: Stating your purpose helps clarify your intentions, which can reduce anxiety or suspicion. It ensures that the individual knows why you are engaging with them and allows them to make an informed decision about whether to continue the interaction.  Q: Why is listening important when interacting with homeless people? A: Listening shows that you value the person's thoughts and experiences. It helps build rapport and trust, and it can provide you with valuable insights into their needs and circumstances, allowing you to offer more meaningful support.\"),\n",
       " Document(metadata={'source': 'data/Virtual_Companion_FAQs.pdf', 'page': 3}, page_content='1. How close should I be when interacting with a homeless person during outreach? The closest you should be is just enough to hand them the care bag. If they ask you to place the bag near them, do so without getting closer than necessary. Always respect their personal space. 2. Why should I stay 6 feet away from someone during street outreach? Staying 6 feet away shows respect for their boundaries and helps ensure both their safety and yours. Many people may feel threatened or uncomfortable if someone gets too close, especially if they don’t know them. 3. What if the person I’m helping is sitting down? If they’re sitting, consider crouching down to have a conversation at their eye level. This makes communication more comfortable and respectful. However, only do so if it feels safe. 4. What should I do if they ask me to come closer? If they ask you to come closer, remember that safety is still your top priority. Be mindful of their mood and behavior, and don’t feel pressured to get too close if you feel uncomfortable. 5. How should I handle shifts in mood during interactions? People on the street may experience mood shifts during your interaction. Stay calm, composed, and focused on maintaining safety. This will help de-escalate the situation if needed. 6. What can I do to help a stressed individual feel more at ease? By staying composed and maintaining a respectful distance, you can help them feel that they are in a safe space. This can ease their stress and allow for a more meaningful connection. 7. What if I feel nervous during the interaction? It’s natural to feel nervous, but keeping safety in mind and staying calm will help you remain composed. Over time, you’ll develop a better sense of what works for you in these situations. 8. Why is it important to remain composed during outreach? Staying composed can help diffuse tension if the person is stressed. It shows that you respect their space and safety, which can help foster a deeper and more positive connection. 1. What kind of clothes should I wear for street outreach?'),\n",
       " Document(metadata={'source': 'data/Virtual_Companion_FAQs.pdf', 'page': 4}, page_content=\"Wear casual, comfortable clothing like t-shirts, jeans, and sneakers that you don't mind getting dirty. Comfort is key since you may be walking a lot during outreach. 2. Why is it important to dress comfortably for street outreach? Dressing comfortably helps you stay relaxed and focused while interacting with people. It also makes you appear more approachable and non-threatening to the individuals you're helping. 3. What should I do if the weather changes during outreach? Dress in layers if the weather fluctuates. This allows you to stay comfortable, especially if it's cooler in the morning and warmer later on. Make sure the layers are easy to carry when you need to remove them. 4. Why are the right shoes important for outreach? Comfortable shoes are essential since you'll likely be doing a lot of walking during outreach. They can make a big difference in your overall comfort and enjoyment. 5. Should I wear formal or work clothes when doing outreach? It's best to avoid wearing uniforms or formal clothing like suits and ties, as these may cause anxiety or discomfort for some people experiencing homelessness. If you're coming straight from work, remove items like jackets and ties to appear more approachable. 6. How can my clothing choices affect the people I approach? Casual clothing can help you look more welcoming and non-threatening, making it easier for the person you're helping to feel safe and comfortable during the interaction. 7. Can wearing a uniform negatively impact my outreach? Yes, wearing uniforms can sometimes trigger anxiety or discomfort in people experiencing homelessness. They may associate formal clothing or uniforms with authority figures, which could make them feel uneasy.  1. What are the CDC guidelines to follow while providing street care?  The following guidelines should be adhered to:   - Maintain a distance of six feet between outreach peers and homeless individuals.   - Wear masks while out in public.   - Wash your hands with soap and water for 20 seconds or use hand sanitizer.   - Avoid touching your face.\"),\n",
       " Document(metadata={'source': 'data/Virtual_Companion_FAQs.pdf', 'page': 5}, page_content='2. What should I do if I come into contact with sick individuals or have symptoms?   If you come into contact with sick individuals or have symptoms, please stay at home. 3. Are there any other guidelines I should follow?   Yes, please check local COVID-19 guidelines and procedures to ensure safety while you are out. 4. Why is hand washing difficult for homeless individuals? Access to facilities for hand washing can be limited for homeless individuals, making it challenging to maintain hygiene. Your assistance in promoting hand hygiene is crucial. 5. How can I help promote clean hands among those I interact with? You can encourage the use of hand sanitizer or offer assistance in finding places where they can wash their hands. 6. Why is wearing masks important? Masks help reduce the spread of COVID-19 by protecting both the wearer and those around them. 7. What does social distancing mean, and why is it important? Social distancing means keeping a distance of at least six feet from others to minimize the risk of virus transmission. 1. Can I bring my children to volunteer in street care?  It is not recommended to bring children under 14 years of age for street care volunteering. 2. Is there any other way my children can help? Yes! Your children can assist in the following ways: - Shopping for items. - Preparing care packages. - Starting a drive for donation items. - Making cards or artwork for those in need. 3. What tips should I follow if I decide to bring a child volunteer once they are ready?  If you bring a child volunteer, make sure they:'),\n",
       " Document(metadata={'source': 'data/Virtual_Companion_FAQs.pdf', 'page': 6}, page_content=\"4. Stay with you and maintain a distance of six feet from individuals in need. Check in with them often to ensure they feel okay. 5. Can I bring my young children for street outreach volunteering? It is not recommended to bring children under 14 years of age for street outreach. 6. How can children under 14 still participate in helping? Children under 14 can prepare items or create art to donate, allowing them to contribute without being on-site. 7. When can I start including my children in actual volunteering? Once they are ready, you can gradually start to include them in volunteering activities. 8. What are some safe activities for children to do in street outreach? Safe activities include preparing care packages, making art for donations, and participating in organizing drives for necessary items.  1. What is the minimum age to volunteer for StreetCare?  Volunteers can participate in StreetCare outreach from the age of 14. However, anyone under the age of 18 must have written consent from a parent or guardian. 2. Is parental consent required for volunteers under 18?  Yes, volunteers under 18 need written consent from a parent or guardian. This consent should be brought with the teen during their outreach activities. 3. What role do parents or guardians play for teen volunteers?  Parents or guardians are responsible for reviewing the content on the StreetCare website with the teen to ensure they are prepared for outreach. They must know the teen's plans and where they will be volunteering. Ultimately, it is the parent or guardian, not StreetCare, who is responsible for the teen's safety during outreach. 4. When is it recommended for teens to participate in StreetCare outreach?  StreetCare recommends that teens only volunteer during the day and in areas that a parent or guardian considers safe.\"),\n",
       " Document(metadata={'source': 'data/Virtual_Companion_FAQs.pdf', 'page': 7}, page_content=\"5. Can StreetCare be held responsible for volunteers?  No, StreetCare cannot take responsibility for volunteers of any age. It is the volunteer’s or their parent/guardian’s responsibility to ensure safety and supervision. 6. What impact can volunteering with StreetCare have?  Volunteering with StreetCare offers the chance to build meaningful relationships with individuals on the street. These interactions may even help provide the support someone needs to transition off the street. 7. What should volunteers keep in mind before going out for outreach?  Volunteers should be prepared by reviewing StreetCare’s website, knowing their plans, and ensuring that their outreach location is safe.  1. Should I perform street outreach alone?  No, StreetCare strongly advises that you engage in outreach with at least one other person for safety reasons. Bringing a friend, family member, colleague, or acquaintance is encouraged to ensure mutual support during outreach. 2. Why is it important to have someone with me during outreach?  There is safety in numbers, and having someone accompany you provides backup in case of any unexpected situations. It also ensures you are not alone while engaging with individuals on the street. 3. Can I bring a large group for street outreach?  While you can bring a group, it’s best for larger groups to divide into smaller teams before starting outreach. When approaching someone experiencing homelessness, only one or two people should engage directly with the individual to avoid overwhelming or intimidating them. 4. What is the best way to approach people during outreach?  Keep interactions respectful and mindful of the person's comfort. Approaching in small groups of one or two people is more effective and ensures that the individual feels at ease, rather than intimidated by a large group. 5. Who can I ask to join me in street outreach?  You can invite a friend, family member, colleague, or anyone else who is interested in participating in street outreach. Sharing the experience with others helps ensure both safety and support. 1. Why should I let someone know where I'm going?\"),\n",
       " Document(metadata={'source': 'data/Virtual_Companion_FAQs.pdf', 'page': 8}, page_content=\"Informing someone about your destination enhances your personal safety and ensures someone knows where to check if something goes wrong. 2. How long should I inform someone I will be gone? Share the duration of your trip to keep them aware and ensure they can check in if needed. 3. Should I notify someone when I return? Yes, it's important to inform your contact once you're back home safely. 4. How does informing someone increase my safety? By knowing your whereabouts and expected return, your contact can alert authorities or assist in case something goes wrong. 5. What should I do if my plans change? If your destination or return time changes, update the person you've informed to keep them aware of your new plans. 6. Can this help others volunteer to assist me? Yes, by sharing your plans, it may encourage others to offer help, like giving a ride or checking in on you. 1. What essential items should I carry for street care safety? You should always carry your ID (such as a driver's license or school ID), a printout of Street Care information and emergency contact details, a charged phone, food, and water. Additionally, it's helpful to have access to the Street Care website or app on your cell phone. 2. Why is it important to have the Street Care info and emergency contact with me? Having this information on hand ensures that if you're in a situation where you need assistance or encounter an emergency, you have quick access to important details that can aid responders or others in helping you. It also serves as proof that you are informed and prepared. 3. What should I do if I am approached by a police officer? While it's unlikely that a police officer will stop you, if they do approach or question you, it's important to remain calm. You are not doing anything wrong, and it is recommended that you offer them the Street Care information you carry and show your ID if requested.\"),\n",
       " Document(metadata={'source': 'data/Virtual_Companion_FAQs.pdf', 'page': 9}, page_content=\"4. Why should I have a charged phone with me at all times? A charged phone is essential for contacting emergency services, accessing Street Care information via the app or website, and staying connected with family or friends in case of unexpected situations. 5. Is there any legal concern with following the Street Care guidelines? No, following the Street Care guidelines, such as carrying an ID and other essentials, is not illegal. It ensures your preparedness for various situations, and if questioned by authorities, showing them the information should clarify your intent and actions.   6. What should I do if I don’t have access to a phone or it runs out of battery? If your phone runs out of battery or you don't have one, it’s important to have backup communication plans. Carry a printout of your Street Care information and emergency contact numbers. Make sure someone you trust knows where you are and can assist if needed. 7. What kind of food and water should I carry for street care? Carry non-perishable, easy-to-eat snacks like energy bars, dried fruit, or nuts, and at least one bottle of water. These items can sustain you in case of an extended time on the street or in an emergency situation. 8. Is it necessary to carry both physical Street Care info and the app on my phone? Yes, it’s recommended to carry both. A physical printout ensures that you have important information on hand in case your phone battery dies or you're unable to access the app. The app or website, however, can provide more dynamic and updated resources if available. 9. How can I ensure my safety if I’m approached by someone who makes me uncomfortable? If someone approaches you and you feel unsafe, stay calm and try to move to a more public or well-lit area. Use your phone to call for help if necessary, and make sure your emergency contacts are easily accessible. 10. What should I do if I encounter someone in need of help while following Street Care guidelines?\"),\n",
       " Document(metadata={'source': 'data/Virtual_Companion_FAQs.pdf', 'page': 10}, page_content=\"If you come across someone in distress, assess the situation carefully. If it’s safe to do so, offer them water, food, or assistance. If needed, contact emergency services for help. Having the Street Care app or website can also guide you on how to handle such situations.  1. How much money should I carry while volunteering? It’s recommended to carry only a small amount of money, such as $10, to reduce the risk of loss or theft. 2. What’s the safest way to carry my belongings? Keep your belongings in your front pockets, as they are harder for others to access. If you're carrying a bag or purse, always keep it in front of you for better control and visibility. 3. Should I bring valuables while volunteering? No, it’s best to leave valuables like jewelry, expensive electronics, or large amounts of money at home to minimize risk. 4. What should I do if I feel unsafe in a situation? Trust your instincts. If you feel unsafe, move to a more secure location and avoid isolated areas. Always stay aware of your surroundings. 5. Is it okay to carry a bag or backpack? Yes, but keep it in front of you and make sure it’s securely closed. This will help protect your belongings and reduce the chance of theft. 6. Are there other precautions I should take while volunteering? Yes, stay with a partner or group when possible, avoid flashing cash or valuables, and remain aware of your environment.  1. What should I do if I get lost while volunteering? If you lose your way, it’s okay to ask for directions. Look for someone who seems approachable and friendly, or find a nearby store to ask for assistance. 2. How do I know who to ask for directions?\"),\n",
       " Document(metadata={'source': 'data/Virtual_Companion_FAQs.pdf', 'page': 11}, page_content=\"Trust your instincts and approach individuals who seem approachable, such as other volunteers, store employees, or people in well-populated areas. 3. Can I combine asking for directions with outreach? Yes! Asking for directions can be a great opportunity to inform someone about the street outreach work you’re doing and to raise awareness of the support available. 4. Is it safer to ask for directions in public spaces? Yes, it’s usually safer to ask for directions in public spaces, like stores or busy areas, where there are more people around. Avoid asking for directions in isolated locations. 5. What should I do if I feel uncomfortable asking for directions? If you’re unsure or uncomfortable, head to a familiar location or use a map or navigation app on your phone to find your way. Always trust your instincts.  1. How can I stay safe while volunteering outdoors? Always pay close attention to your surroundings. Stay alert to what’s happening around you, and avoid distractions like excessive phone use. 2. How can I ensure my group stays safe? Regularly check in with your partners to make sure everyone feels comfortable and safe. If anyone feels uneasy, move to a safer, more populated area. 3. Should I use my phone while volunteering? Yes, but focus on using your phone for important tasks, like checking the StreetCare app. Avoid prolonged use that may distract you from your environment. 4. What if I start feeling uncomfortable in my surroundings? Trust your instincts. If you feel unsafe or uncomfortable, let your partners know and move to a safer location. It's important to stay in well-lit and populated areas whenever possible. 5. How can the StreetCare app help while volunteering? The StreetCare app can provide helpful information and tools for your outreach efforts. Use it to stay informed and connected while keeping your focus on your surroundings.\"),\n",
       " Document(metadata={'source': 'data/Virtual_Companion_FAQs.pdf', 'page': 12}, page_content=\"1. What should I do if a situation doesn’t feel right? If a situation gives you a bad feeling, trust your instincts and walk away. It's better to remove yourself from an uncomfortable situation than to ignore those feelings. 2. Is it okay to take a break if I feel unsettled? Yes, it's perfectly okay to take a break, regroup, or even call it a day if you're feeling unsettled. Your safety and comfort are the top priority. 3. How can I build confidence while volunteering? Confidence comes with experience, but always trusting your gut feeling and staying aware of your surroundings will help you feel more secure in your actions. 4. What should I do if I feel nervous but my instincts tell me everything is fine? Feeling nervous is normal, but listen to your instincts. If there’s no real threat, take a moment to breathe and assess the situation calmly before proceeding. 5. How can I support other volunteers if they feel uneasy? Encourage them to trust their instincts. Offer to take a break together or move to a safer location. Checking in with one another regularly helps ensure everyone feels comfortable.    17.  Approach Carefully and Alertly: Street Safety a. Is there any precaution I can take while approaching someone? – Pay attention to their hands as you approach, but avoid staring. – Stay aware of your surroundings.  – Involve your outreach buddy for support if needed. – It's rare for someone to be dangerous, but remain vigilant. Remember, those experiencing homelessness are often vulnerable.  b. What if there are signs of aggression, what measures should I take? – Slowly back away and change your location. Based on experience, it's rare for aggression to escalate, but always prioritize your safety.\"),\n",
       " Document(metadata={'source': 'data/Virtual_Companion_FAQs.pdf', 'page': 13}, page_content=\"18.  Homelessness and Mental Illness: Introduction  a. How do I recognise if someone is mentally ill? - Mental illness homeless individuals can manifest in various ways, including changes in mood, behavior, or communication. - Common signs may include : Isolation from the public, talking to themselves, responding to internal stimuli or unusual behavior. - Remember, not all homeless individuals with mental illness show visible signs, and their behavior may vary depending on their circumstances.  19.  Homelessness and Mental Illness: Don’t Make Assumptions a Why is it important to keep an open mind when engaging with someone?   -  Focus on the individual’s situation rather than preconceived notions.                         -  Ask questions and listen carefully to understand their experiences.                         -  Avoid jumping to conclusions based on first impressions or stereotypes.         b. How can I avoid assuming things about someone based on appearance or behavior? - Focus on the individual’s situation rather than preconceived notions. - Ask questions and listen carefully to understand their experiences. - Avoid jumping to conclusions based on first impressions or stereotypes. 20.  Homelessness and Mental Illness: Possible Signs of Mental Illness a. Is there any precaution I can take while approaching someone? - Pay attention to their hands as you approach, but avoid staring. - Stay aware of your surroundings.  - Involve your outreach buddy for support if needed. - It's rare for someone to be dangerous, but remain vigilant. Remember, those experiencing homelessness are often vulnerable. b. What does it mean if someone is talking to themselves? - Talking to themselves may indicate that the person is responding to internal stimuli, such as thoughts or hallucinations.\"),\n",
       " Document(metadata={'source': 'data/Virtual_Companion_FAQs.pdf', 'page': 14}, page_content=\"- This behavior is not necessarily dangerous and can be a coping mechanism for the individual. - Stay calm and respectful while continuing the interaction, recognizing this as a possible sign of mental health challenges.  21.  Homelessness and Mental Illness: How to Approach Someone Displaying Signs of Mental Illness a. What should I do when approaching someone who may be homeless and showing signs of mental illness? - Smile and introduce yourself with a simple greeting. - Keep your tone calm and avoid overwhelming them with too much information at once. b. Why is it important to keep the introduction simple? - A simple introduction helps avoid confusion, especially if the person is struggling with communication or concentration. - It reduces the pressure on them to process too much at once c. Why is keeping a safe distance important when approaching someone? - A safe distance respects the person's personal space and helps them feel more secure. - It allows you to observe their reactions and adjust your approach if they seem uneasy or anxious. 22.  Homelessness and Mental Illness: Compliment and Connect a. How can I make connections with people easily? - Making connections can be easy if you engage with kindness. - Ensure the other person feels comfortable during the conversation. b. Should I use compliments in conversations? - Using compliments may help if the situation feels appropriate. - Compliments can make the other person feel more at ease. c. How should I approach listening during a conversation? - Give the person enough time to respond during the conversation.\"),\n",
       " Document(metadata={'source': 'data/Virtual_Companion_FAQs.pdf', 'page': 15}, page_content=\"- Actively listen to what they have to say to ensure a respectful and thoughtful exchange. 23.  Homelessness and Mental Illness: What to Do if Communication is Difficult a. What should I do if someone doesn't want a care bag? - It's important to respect their decision if someone doesn't want a care bag. - It's okay if they decline, and you can offer it without forcing them to accept. b. Can I leave a care bag nearby if the person is hesitant? - If appropriate, you can leave the care bag a few feet away from the person. - Make sure it doesn't feel forced when leaving the care bag. c. How can I stay positive while distributing care bags? - Remember that you're doing your best, and that's something to be proud of. - If needed, take a break and stay positive throughout the process. 24.  Homeless Veterans: Importance of Helping Homeless Veterans a. Why is it important to help homeless veterans?  – Homeless veterans have served our country and often face difficulties transitioning back into civilian life. Many struggle with issues like PTSD, fear, or anxiety, making it harder to adapt. b. How does supporting veterans make a difference?  – By offering support, we can help make their lives easier and assist them in transforming their circumstances, enabling a smoother return to civilian society. c. What is Street Care’s mission regarding homeless veterans? –  Street Care is dedicated to honoring and supporting those who served by providing resources to help them rebuild their lives. 25.  Homeless Veterans: What to Keep in Mind a. Why should I pay special attention to homeless veterans? –  Veterans have risked their lives for our safety and may have experienced traumatic events, making their transition back to civilian life challenging. Understanding their experiences can help you approach them with empathy. b. How should I approach a homeless veteran?\"),\n",
       " Document(metadata={'source': 'data/Virtual_Companion_FAQs.pdf', 'page': 16}, page_content='– Be mindful, cautious, and kind. Start by observing and understanding their situation, then gently offer assistance. c. Why might some homeless veterans be more vulnerable?  – Many veterans suffer from PTSD and have experienced loss, so they may need more sensitivity and care when approached. 26.  Pandemic Safety: Health Tips a. Why is cleaning hands frequently important?                 -      Washing your hands with soap and water or using hand sanitizer removes                                     germs, including the virus that causes COVID-19     - Frequent hand cleaning reduces the risk of transferring the virus from  surfaces to your face, where it can enter your body through your eyes, nose, or mouth. b. How does wearing a mask help prevent COVID-19? - Masks act as a barrier to block respiratory droplets, which are the primary way the virus spreads when people talk, cough, or sneeze. - By wearing a mask, you not only protect yourself but also others, especially in crowded or indoor environments where maintaining distance can be difficult. c.  Why should I maintain 6 feet of distance from others? - Respiratory droplets from an infected person can travel in the air and potentially infect others, even if the person is asymptomatic. Maintaining distance minimizes this risk. - Keeping at least 6 feet helps prevent close contact that could lead to the inhalation of droplets containing the virus. - Social distancing is especially crucial in places where masks may not be worn consistently, such as while eating or during physical activities.   27.  De-stress & Energize: Wellness Tip a. How does flexing and releasing my hands help reduce stress? - Flexing and releasing your hands helps release built-up tension in your muscles, which can reduce stress.'),\n",
       " Document(metadata={'source': 'data/Virtual_Companion_FAQs.pdf', 'page': 17}, page_content='- This simple movement promotes relaxation by increasing blood flow, making you feel more energized.                    b. Why is shaking out tension effective for stress relief? - Shaking out your hands and upper body helps release physical tension that accumulates due to stress, allowing you to feel lighter and more relaxed. - It also helps stimulate circulation and can instantly boost your energy levels.   28.  Wellness Tip Awareness Breathing: Health & Wellness Tips a. Why should I place my hands on my chest during breathing exercises? - Placing your hands on your chest helps you physically connect with your breath, making you more aware of its movement. - It can enhance your focus on the sensation of breathing, promoting relaxation and mindfulness. b.  Why is breathing compared to the sea coming in and out?    - Like the steady rhythm of waves, breathing in and out creates a calming and natural flow that promotes relaxation. - This rhythmic pattern helps ground your mind, making it easier to release stress with each exhale.     c.  How does letting the breath fill the chest help with relaxation?    - Allowing your breath to naturally fill the chest helps expand your lungs, bringing in more oxygen and easing tension. - Deep chest breathing can slow your heart rate and calm your nervous system, reducing stress.  29.  Wellness Tip Relaxation Breathing: Health & Wellness Tips a. How should I perform relaxation breathing? – Close your eyes. – Breathe in and notice if your breath is short or long. – Breathe out and observe whether your breath is short or long.'),\n",
       " Document(metadata={'source': 'data/Virtual_Companion_FAQs.pdf', 'page': 18}, page_content=\"b. Are there different types of breathing?  – Yes, breathing can be smooth, rough, shallow, or deep. c. Is it a problem to have different types of breathing?  – No, as long as you breathe naturally. Just observe the characteristics. d. What is the purpose of relaxing breathing?  – The technique aims to introduce calmness by focusing on your breath with your eyes closed. 30. Introduction to Street Outreach: Easy Commuting Tips a. When can I help if I have a busy schedule? – You can make a difference even with a busy schedule by connecting with local homeless individuals during your lunch break or while running errands. b. Should I bring anything when I commute? – It's helpful to carry a backpack with care packages and wellness tips that you can distribute as needed.  31.  Dental Hygiene a. Why is Oral Hygiene Important? – Oral hygiene is crucial, especially for those on the streets, as poor dental care can lead to serious infections or even heart problems. Missing teeth can result in poor nutrition and make it difficult for individuals to integrate into society. b. How Do You Share Your Dental Care Package? – When sharing a dental care package (toothbrush, toothpaste), use it as a friendly conversation starter but always be polite and respectful. c. What More Can You Do? – Research facilities that offer dental services for homeless people and share that information; it can be just as helpful as the package itself.\")]"
      ]
     },
     "execution_count": 2,
     "metadata": {},
     "output_type": "execute_result"
    }
   ],
   "source": [
    "from langchain_community.document_loaders import PyPDFLoader\n",
    "\n",
    "loader = PyPDFLoader(\"data/Virtual_Companion_FAQs.pdf\")\n",
    "pages = loader.load_and_split()\n",
    "pages"
   ]
  },
  {
   "cell_type": "code",
   "execution_count": 19,
   "metadata": {},
   "outputs": [
    {
     "name": "stdout",
     "output_type": "stream",
     "text": [
      "\n",
      "Answer the question based on the context below in a consice and precise manner in maximum 150 words. If you can't answer the question, reply \"I don't know\".\n",
      "\n",
      "Context: Here is some context\n",
      "\n",
      "Question: Here is a question\n",
      "\n"
     ]
    }
   ],
   "source": [
    "from langchain.prompts import PromptTemplate\n",
    "\n",
    "template = \"\"\"\n",
    "Answer the question based on the context below in a consice and precise manner in maximum 150 words. If you can't answer the question, reply \"I don't know\".\n",
    "\n",
    "Context: {context}\n",
    "\n",
    "Question: {question}\n",
    "\"\"\"\n",
    "\n",
    "prompt = PromptTemplate.from_template(template)\n",
    "\n",
    "\n",
    "print(prompt.format(context=\"Here is some context\", question=\"Here is a question\"))"
   ]
  },
  {
   "cell_type": "code",
   "execution_count": 20,
   "metadata": {},
   "outputs": [],
   "source": [
    "chain = prompt | model | parser"
   ]
  },
  {
   "cell_type": "code",
   "execution_count": 21,
   "metadata": {},
   "outputs": [
    {
     "data": {
      "text/plain": [
       "' Of course! Based on the context provided, your name is Eli.'"
      ]
     },
     "execution_count": 21,
     "metadata": {},
     "output_type": "execute_result"
    }
   ],
   "source": [
    "chain.invoke(\n",
    "    {\n",
    "        \"context\": \"The name I was given was Eli\",\n",
    "        'question': \"What's my name?\"\n",
    "    }\n",
    ")"
   ]
  },
  {
   "cell_type": "code",
   "execution_count": 22,
   "metadata": {},
   "outputs": [],
   "source": [
    "from langchain_community.vectorstores import DocArrayInMemorySearch\n",
    "\n",
    "vectorstore = DocArrayInMemorySearch.from_documents(pages, embedding=embeddings)"
   ]
  },
  {
   "cell_type": "markdown",
   "metadata": {},
   "source": [
    "DocArray is a vector storage, it is smaller as compared to Pincone and other vector databases."
   ]
  },
  {
   "cell_type": "markdown",
   "metadata": {},
   "source": [
    "vectorstore.as_retriever().invoke(\"homeless\")"
   ]
  },
  {
   "cell_type": "code",
   "execution_count": 23,
   "metadata": {},
   "outputs": [
    {
     "data": {
      "text/plain": [
       "[Document(metadata={'source': 'Virtual_Companion_FAQs.pdf', 'page': 1}, page_content=\"It’s completely normal to feel overwhelmed. Take your time, and remember that even small actions can make a big impact. The experience often becomes easier with practice, and you may find inspiration along the way. 2. Can my help really make a difference? Absolutely! Your assistance, whether through providing essentials or simply offering support, can literally save lives by addressing immediate needs such as food, water, and first aid. 3. How do I stay motivated as a volunteer? The act of going out and helping others is often inspiring in itself. Seeing the direct impact of your efforts and connecting with those you help can be incredibly rewarding. 4. What should I do if I start to feel discouraged? It’s important to remind yourself that every small contribution counts. Reach out to other volunteers for support or share your experiences—it helps to know you're not alone in your efforts. 5. Is it okay to take breaks if I’m feeling overwhelmed? Yes, it's important to take care of yourself as well. Taking breaks when needed will allow you to recharge and come back ready to help even more effectively. Q: What are the benefits of working in a group? A: Working in a group allows members to divide tasks based on their strengths, ensuring that more aspects of a project are addressed efficiently. This distribution of work also prevents any single person from becoming overwhelmed, leading to a more balanced and productive workflow.  Q: How does sharing responsibilities in a group enhance productivity? A: Sharing responsibilities ensures that all tasks are handled promptly and effectively. It allows each member to focus on specific areas, leveraging their unique skills and expertise, which can lead to higher-quality work and faster completion of projects.  Q: What are the advantages of splitting into pairs within a group? A: Splitting into pairs allows for more focused collaboration, reducing the complexity of communication and making it easier to manage tasks.  Q: How does pairing up prevent group members from feeling overwhelmed? A: Pairing up divides the workload between two people, making large tasks more manageable. It\"),\n",
       " Document(metadata={'source': 'Virtual_Companion_FAQs.pdf', 'page': 14}, page_content=\"- This behavior is not necessarily dangerous and can be a coping mechanism for the individual. - Stay calm and respectful while continuing the interaction, recognizing this as a possible sign of mental health challenges.  21.  Homelessness and Mental Illness: How to Approach Someone Displaying Signs of Mental Illness a. What should I do when approaching someone who may be homeless and showing signs of mental illness? - Smile and introduce yourself with a simple greeting. - Keep your tone calm and avoid overwhelming them with too much information at once. b. Why is it important to keep the introduction simple? - A simple introduction helps avoid confusion, especially if the person is struggling with communication or concentration. - It reduces the pressure on them to process too much at once c. Why is keeping a safe distance important when approaching someone? - A safe distance respects the person's personal space and helps them feel more secure. - It allows you to observe their reactions and adjust your approach if they seem uneasy or anxious. 22.  Homelessness and Mental Illness: Compliment and Connect a. How can I make connections with people easily? - Making connections can be easy if you engage with kindness. - Ensure the other person feels comfortable during the conversation. b. Should I use compliments in conversations? - Using compliments may help if the situation feels appropriate. - Compliments can make the other person feel more at ease. c. How should I approach listening during a conversation? - Give the person enough time to respond during the conversation.\"),\n",
       " Document(metadata={'source': 'Virtual_Companion_FAQs.pdf', 'page': 3}, page_content='1. How close should I be when interacting with a homeless person during outreach? The closest you should be is just enough to hand them the care bag. If they ask you to place the bag near them, do so without getting closer than necessary. Always respect their personal space. 2. Why should I stay 6 feet away from someone during street outreach? Staying 6 feet away shows respect for their boundaries and helps ensure both their safety and yours. Many people may feel threatened or uncomfortable if someone gets too close, especially if they don’t know them. 3. What if the person I’m helping is sitting down? If they’re sitting, consider crouching down to have a conversation at their eye level. This makes communication more comfortable and respectful. However, only do so if it feels safe. 4. What should I do if they ask me to come closer? If they ask you to come closer, remember that safety is still your top priority. Be mindful of their mood and behavior, and don’t feel pressured to get too close if you feel uncomfortable. 5. How should I handle shifts in mood during interactions? People on the street may experience mood shifts during your interaction. Stay calm, composed, and focused on maintaining safety. This will help de-escalate the situation if needed. 6. What can I do to help a stressed individual feel more at ease? By staying composed and maintaining a respectful distance, you can help them feel that they are in a safe space. This can ease their stress and allow for a more meaningful connection. 7. What if I feel nervous during the interaction? It’s natural to feel nervous, but keeping safety in mind and staying calm will help you remain composed. Over time, you’ll develop a better sense of what works for you in these situations. 8. Why is it important to remain composed during outreach? Staying composed can help diffuse tension if the person is stressed. It shows that you respect their space and safety, which can help foster a deeper and more positive connection. 1. What kind of clothes should I wear for street outreach?'),\n",
       " Document(metadata={'source': 'Virtual_Companion_FAQs.pdf', 'page': 9}, page_content=\"4. Why should I have a charged phone with me at all times? A charged phone is essential for contacting emergency services, accessing Street Care information via the app or website, and staying connected with family or friends in case of unexpected situations. 5. Is there any legal concern with following the Street Care guidelines? No, following the Street Care guidelines, such as carrying an ID and other essentials, is not illegal. It ensures your preparedness for various situations, and if questioned by authorities, showing them the information should clarify your intent and actions.   6. What should I do if I don’t have access to a phone or it runs out of battery? If your phone runs out of battery or you don't have one, it’s important to have backup communication plans. Carry a printout of your Street Care information and emergency contact numbers. Make sure someone you trust knows where you are and can assist if needed. 7. What kind of food and water should I carry for street care? Carry non-perishable, easy-to-eat snacks like energy bars, dried fruit, or nuts, and at least one bottle of water. These items can sustain you in case of an extended time on the street or in an emergency situation. 8. Is it necessary to carry both physical Street Care info and the app on my phone? Yes, it’s recommended to carry both. A physical printout ensures that you have important information on hand in case your phone battery dies or you're unable to access the app. The app or website, however, can provide more dynamic and updated resources if available. 9. How can I ensure my safety if I’m approached by someone who makes me uncomfortable? If someone approaches you and you feel unsafe, stay calm and try to move to a more public or well-lit area. Use your phone to call for help if necessary, and make sure your emergency contacts are easily accessible. 10. What should I do if I encounter someone in need of help while following Street Care guidelines?\")]"
      ]
     },
     "execution_count": 23,
     "metadata": {},
     "output_type": "execute_result"
    }
   ],
   "source": [
    "retriver = vectorstore.as_retriever()\n",
    "\n",
    "retriver.invoke(\"homeless\")"
   ]
  },
  {
   "cell_type": "markdown",
   "metadata": {},
   "source": []
  },
  {
   "cell_type": "code",
   "execution_count": 24,
   "metadata": {},
   "outputs": [
    {
     "data": {
      "text/plain": [
       "\" Based on the provided FAQ document, showing respect to homeless individuals involves several aspects:\\n\\n1. Comfortable clothing: Dress in casual, comfortable attire that won't make them feel uncomfortable or self-conscious during interactions. Avoid formal or work-related clothing that may intimidate them.\\n2. Personal space: Maintain a distance of six feet between outreach peers and homeless individuals to respect their personal space.\\n3. Hygiene: Wash hands with soap and water for 20 seconds or use hand sanitizer to maintain good hygiene practices.\\n4. Avoiding assumptions: Keep an open mind when engaging with someone experiencing homelessness, avoiding assumptions based on appearance or behavior. Ask questions and listen carefully to understand their experiences.\\n5. Dress code: Avoid wearing uniforms or formal clothing that may trigger anxiety or discomfort in people experiencing homelessness. Instead, wear casual attire that appears welcoming and non-threatening.\\n\\nBy following these guidelines, you can demonstrate respect for homeless individuals and create a more comfortable atmosphere for interacting with them.\""
      ]
     },
     "execution_count": 24,
     "metadata": {},
     "output_type": "execute_result"
    }
   ],
   "source": [
    "from operator import itemgetter\n",
    "\n",
    "chain = (\n",
    "\n",
    "    {\n",
    "        \"context\": itemgetter(\"question\") | retriver,\n",
    "        \"question\": itemgetter(\"question\")\n",
    "    }\n",
    "    | prompt\n",
    "    | model\n",
    "    | parser\n",
    ")\n",
    "\n",
    "chain.invoke({\"question\": \"How can we show respect to homeless people?\"})"
   ]
  },
  {
   "cell_type": "code",
   "execution_count": 25,
   "metadata": {},
   "outputs": [
    {
     "name": "stdout",
     "output_type": "stream",
     "text": [
      "Based on the provided FAQ document, here is how you can show respect to homeless people:  1. Dress comfortably and avoid uniforms that may trigger anxiety or discomfort in the individuals you are helping. 2. Maintain a distance of six feet between outreach peers and homeless individuals to ensure safety. 3. Wear masks while out in public and wash your hands with soap and water for 20 seconds or use hand sanitizer to maintain personal hygiene. 4. Avoid touching your face to prevent potential contamination.  By following these guidelines, you can show respect to homeless individuals by prioritizing their safety and well-being.\n"
     ]
    }
   ],
   "source": [
    "output = chain.invoke({\"question\": \"How can we show respect to homeless people?\"})  # Chain invocation with input data\n",
    "\n",
    "# Clean the output text to remove newlines\n",
    "cleaned_output = output.replace('\\n', ' ').strip()  # Replaces \\n with a space and strips leading/trailing whitespace\n",
    "\n",
    "print(cleaned_output)"
   ]
  },
  {
   "cell_type": "code",
   "execution_count": 26,
   "metadata": {},
   "outputs": [
    {
     "name": "stdout",
     "output_type": "stream",
     "text": [
      "Question: What should I do if I start to feel discouraged?\n",
      "Answer:  If you start to feel discouraged while interacting with homeless individuals, it's important to take a step back and prioritize your own well-being. Remember that showing respect and empathy towards others doesn't mean neglecting yourself. Here are some suggestions:\n",
      "\n",
      "1. Take a break: If you're feeling overwhelmed or discouraged, take a short break to rest and recharge. This can help you approach the interaction with renewed energy and positivity.\n",
      "2. Reflect on your intentions: Remind yourself why you're engaging with homeless individuals in the first place. Focus on the purpose of showing respect and empathy, rather than feeling discouraged by individual situations.\n",
      "3. Practice self-care: Engage in activities that help you relax and take care of yourself, such as exercise, meditation, or spending time with loved ones. This can help you maintain a positive mindset when interacting with homeless individuals.\n",
      "4. Seek support: If you're consistently feeling discouraged or overwhelmed, consider seeking support from a mental health professional or a trusted friend or family member. They can offer emotional support and provide practical tips for managing stress and burnout.\n",
      "\n",
      "Remember, showing respect and empathy towards homeless individuals is crucial, but it's also important to prioritize your own well-being. By taking breaks, reflecting on your intentions, practicing self-care, and seeking support when needed, you can maintain a positive attitude and make meaningful connections with those in need.\n",
      "\n",
      "Question: What should I include in the care packages for homeless individuals?\n",
      "Answer: Based on the information provided in the FAQs document, it is important to respect the individual's decision if they do not want a care bag. It is also okay to leave a care bag nearby if the person is hesitant, but make sure it doesn't feel forced. Remember to stay positive and keep the interaction respectful.\n",
      "\n",
      "Question: What are the benefits of working in a group?\n",
      "Answer:  Working in a group can enhance knowledge by allowing individuals to share their perspectives and insights, leading to a broader understanding of a topic. This collective learning process refines individual techniques and avoids common pitfalls. Additionally, group members can reflect on what worked well and what didn't, fostering critical thinking and problem-solving skills. By pooling their expertise and experiences, group members can achieve more than they could alone, leading to increased productivity and innovation.\n",
      "\n",
      "Question: What if I feel nervous during the interaction?\n",
      "Answer:  Based on the context, it's normal to feel nervous when interacting with someone, especially if you're new to the process. It's important to approach the interaction with empathy and respect, while also being mindful of your own boundaries and comfort level. If you find yourself feeling overwhelmed or uncomfortable during the interaction, it's okay to take a step back and prioritize your own well-being. Remember that showing respect and empathy towards others doesn't have to come at the expense of your own emotional safety.\n",
      "\n"
     ]
    }
   ],
   "source": [
    "questions = [\n",
    "    \"What should I do if I start to feel discouraged?\",\n",
    "    \"What should I include in the care packages for homeless individuals?\",\n",
    "    \"What are the benefits of working in a group?\",\n",
    "    \"What if I feel nervous during the interaction?\"\n",
    "]\n",
    "\n",
    "for question in questions:\n",
    "    print(f\"Question: {question}\")\n",
    "    print(f\"Answer: {chain.invoke({\"question\": question})}\")\n",
    "    print()"
   ]
  },
  {
   "cell_type": "code",
   "execution_count": 27,
   "metadata": {},
   "outputs": [
    {
     "data": {
      "text/plain": [
       "[\" To answer the question, it is important to recognize that feeling discouraged is a normal part of the process when working with others to enhance knowledge. Here are some possible actions you can take to address this feeling:\\n\\n1. Take a break: If you're feeling overwhelmed or discouraged, taking a break can help you recharge and come back to the task with renewed energy and focus.\\n2. Reflect on progress: Take time to reflect on the progress you've made so far. Celebrate your achievements, no matter how small they may seem. This can help boost your morale and motivation.\\n3. Seek support: Don't be afraid to seek support from colleagues, mentors, or peers. Talking through challenges with someone who understands can provide valuable perspective and encouragement.\\n4. Reframe negative thoughts: Challenge any negative self-talk that may be contributing to your discouragement. Replace these thoughts with more positive and realistic ones.\\n5. Find inspiration: Surround yourself with sources of inspiration, such as motivational quotes, success stories, or interesting topics to learn about. This can help you regain your enthusiasm for the task at hand.\\n\\nRemember, it is normal to feel discouraged at times, and these feelings do not define your ability to succeed in this task. By taking proactive steps to address these feelings, you can overcome them and continue making progress towards your goals.\",\n",
       " \"The document suggests including practical items such as socks, hats, gloves, toiletries, water bottles, and non-perishable snacks in the care packages for homeless individuals. It is important to respect the individual's decision if they do not want a care bag, and to leave it nearby without forcing them to accept it. Additionally, it is suggested to keep the introduction simple, wear comfortable clothing, and avoid wearing uniforms while providing street care.\",\n",
       " \" Based on the provided context, working in a group can enhance knowledge by introducing different perspectives and approaches to problem-solving. Sharing experiences within a group contributes to learning by allowing members to reflect on what worked well and what didn't, and refine their own techniques. Additionally, listening to others can provide valuable insights into their needs and circumstances, allowing for more informed support.\",\n",
       " \"If you feel nervous during the interaction, it's important to acknowledge and validate those feelings. It's normal to feel anxious when interacting with someone new, especially if they are experiencing homelessness. Here are some tips to help manage your nerves:\\n\\n1. Practice deep breathing: Take a few moments to focus on your breath and take slow, deep breaths. This can help calm your nervous system and reduce tension.\\n2. Listen actively: Instead of worrying about what to say, focus on listening attentively to the person. Ask open-ended questions and show empathy and understanding.\\n3. Involve a buddy: If possible, involve a buddy or friend in the interaction. This can provide an extra level of support and help you feel more grounded.\\n4. Remind yourself of your intentions: Reflect on why you are engaging with this person and what you hope to achieve. This can help shift your focus away from nervousness and towards a positive purpose.\\n\\nRemember, the most important thing is to approach the interaction with kindness and respect. By being present and empathetic, you can make a positive difference in someone's life.\"]"
      ]
     },
     "execution_count": 27,
     "metadata": {},
     "output_type": "execute_result"
    }
   ],
   "source": [
    "chain.batch([{\"question\":q} for q in questions])"
   ]
  },
  {
   "cell_type": "code",
   "execution_count": null,
   "metadata": {},
   "outputs": [],
   "source": []
  }
 ],
 "metadata": {
  "kernelspec": {
   "display_name": ".venv",
   "language": "python",
   "name": "python3"
  },
  "language_info": {
   "codemirror_mode": {
    "name": "ipython",
    "version": 3
   },
   "file_extension": ".py",
   "mimetype": "text/x-python",
   "name": "python",
   "nbconvert_exporter": "python",
   "pygments_lexer": "ipython3",
   "version": "3.12.3"
  }
 },
 "nbformat": 4,
 "nbformat_minor": 2
}
